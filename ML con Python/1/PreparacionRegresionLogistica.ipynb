{
 "cells": [
  {
   "cell_type": "markdown",
   "id": "973c2e8f-1d5f-4cb0-bf27-ecf0c9920407",
   "metadata": {},
   "source": [
    "*@author Laura María Pedraza Gómez*"
   ]
  },
  {
   "cell_type": "markdown",
   "id": "88337e0a-87cb-4720-bb95-973cf1b90787",
   "metadata": {},
   "source": [
    "## Dataset Titanic"
   ]
  },
  {
   "cell_type": "markdown",
   "id": "46bfc1b9-827c-4833-b495-0c7b5efb7a5a",
   "metadata": {},
   "source": [
    "### División del conjunto de datos"
   ]
  },
  {
   "cell_type": "markdown",
   "id": "835a2428-ca3e-4908-b1db-71f55fa6fa20",
   "metadata": {},
   "source": [
    "Se va a dividir el dataset en conjunto de datos de entrenamiento y conjunto de datos de prueba"
   ]
  },
  {
   "cell_type": "code",
   "execution_count": 29,
   "id": "0cd84b95-c460-4081-b347-8f3367619a45",
   "metadata": {},
   "outputs": [
    {
     "name": "stdout",
     "output_type": "stream",
     "text": [
      "Tamaño del conjunto de entrenamiento: (712, 11)\n",
      "Tamaño del conjunto de prueba: (179, 11)\n"
     ]
    }
   ],
   "source": [
    "import pandas as pd\n",
    "from sklearn.model_selection import train_test_split\n",
    "\n",
    "dt = pd.read_csv('Titanic-Dataset.csv')\n",
    "\n",
    "# Predicción de supervivencia\n",
    "x = dt.drop('Survived', axis=1)  # Variables independientes\n",
    "y = dt['Survived']               # Variable dependiente\n",
    "\n",
    "# Datos de entrenamiento - 80%\n",
    "# Datos de prueba - 20%\n",
    "x_train, x_test, y_train, y_test = train_test_split(x, y, test_size=0.2, random_state=42)\n",
    "\n",
    "print(\"Tamaño del conjunto de entrenamiento:\", x_train.shape)\n",
    "print(\"Tamaño del conjunto de prueba:\", x_test.shape)\n"
   ]
  },
  {
   "cell_type": "markdown",
   "id": "ea4d9fe9-99b9-4635-a78d-2503a62544ff",
   "metadata": {},
   "source": [
    "### Eliminación de filas de nulos"
   ]
  },
  {
   "cell_type": "code",
   "execution_count": 31,
   "id": "e84029ea-a3ce-44e1-81e5-f1918749f757",
   "metadata": {},
   "outputs": [
    {
     "name": "stdout",
     "output_type": "stream",
     "text": [
      "Número de filas antes de eliminar nulos: 183\n",
      "Número de filas después de eliminar nulos: 183\n"
     ]
    }
   ],
   "source": [
    "print(\"Número de filas antes de eliminar nulos:\", df.shape[0])\n",
    "\n",
    "# Se eliminan las filas que contienen al menos un valor nulo\n",
    "dt = dt.dropna()\n",
    "\n",
    "print(\"Número de filas después de eliminar nulos:\", df.shape[0])"
   ]
  },
  {
   "cell_type": "markdown",
   "id": "95649948-0bd7-4a98-b8ea-f51f198fa786",
   "metadata": {},
   "source": [
    "Dado que el dataset del Titanic contiene información histórica, es común encontrar datos faltantes en muchas filas debido a registros incompletos o pérdidas de información con el tiempo."
   ]
  },
  {
   "cell_type": "markdown",
   "id": "d97d0898-e644-441b-b20b-e8763934fb59",
   "metadata": {},
   "source": [
    "### Rellenar nulos con media y mediana"
   ]
  },
  {
   "cell_type": "code",
   "execution_count": 79,
   "id": "c3c113b2-6fdf-4250-b715-6c5b541be54f",
   "metadata": {},
   "outputs": [
    {
     "name": "stdout",
     "output_type": "stream",
     "text": [
      "Valores nulos antes del tratamiento: \n",
      " PassengerId      0\n",
      "Survived         0\n",
      "Pclass           0\n",
      "Name             0\n",
      "Sex              0\n",
      "Age            177\n",
      "SibSp            0\n",
      "Parch            0\n",
      "Ticket           0\n",
      "Fare             0\n",
      "Cabin          687\n",
      "Embarked         2\n",
      "dtype: int64\n",
      "\n",
      " \n",
      " Valores nulos después del tratamiento: \n",
      " PassengerId      0\n",
      "Survived         0\n",
      "Pclass           0\n",
      "Name             0\n",
      "Sex              0\n",
      "Age              0\n",
      "SibSp            0\n",
      "Parch            0\n",
      "Ticket           0\n",
      "Fare             0\n",
      "Cabin          687\n",
      "Embarked         2\n",
      "dtype: int64\n"
     ]
    }
   ],
   "source": [
    "# Se vuelve a cargar el dataset para obtener todos los datos\n",
    "dt = pd.read_csv('Titanic-Dataset.csv')\n",
    "\n",
    "# Mostrar cuántos valores nulos hay en cada columna\n",
    "print(\"Valores nulos antes del tratamiento: \\n\", dt.isnull().sum())\n",
    "\n",
    "# Se rellenan algunos posible nulos con la media\n",
    "if 'Age' in dt.columns:\n",
    "    dt['Age'] = dt['Age'].fillna(dt['Age'].mean())\n",
    "\n",
    "if 'Fare' in dt.columns:\n",
    "    dt['Fare'] = dt['Fare'].fillna(dt['Fare'].mean())\n",
    "\n",
    "# Se rellenan el resto de posibles nulos con la mediana\n",
    "if 'SibSp' in dt.columns:\n",
    "    dt['SibSp'] = dt['SibSp'].fillna(dt['SibSp'].median())\n",
    "\n",
    "if 'Parch' in dt.columns:\n",
    "    dt['Parch'] = dt['Parch'].fillna(dt['Parch'].median())\n",
    "\n",
    "# Comprobar nuevamente los nulos\n",
    "print(\"\\n \\n Valores nulos después del tratamiento: \\n\", dt.isnull().sum())\n"
   ]
  },
  {
   "cell_type": "markdown",
   "id": "92a5a45b-2f8b-4352-bf6b-d587e1a0ab4b",
   "metadata": {},
   "source": [
    "Los datos nulos de la columna 'Cabin' no pueden rellenarse en este apartado, ya que no son numéricos y además presentan muchos valores faltantes, lo que dificulta su tratamiento adecuado. En cuanto a 'Embarked', aunque es una variable categórica y tiene pocos valores nulos, estos deben tratarse antes del análisis, normalmente rellenándolos con el valor más frecuente (moda)."
   ]
  },
  {
   "cell_type": "markdown",
   "id": "d1f7d5fe-54a7-4d14-8fb0-5eba457ae2ba",
   "metadata": {},
   "source": [
    "### Eliminación de atributos con nulos"
   ]
  },
  {
   "cell_type": "code",
   "execution_count": 43,
   "id": "3c37d527-5680-4264-84b4-15ce67594ecf",
   "metadata": {},
   "outputs": [
    {
     "name": "stdout",
     "output_type": "stream",
     "text": [
      "Columnas antes de eliminar las que tenían nulos: Index(['PassengerId', 'Survived', 'Pclass', 'Name', 'Sex', 'Age', 'SibSp',\n",
      "       'Parch', 'Ticket', 'Fare', 'Cabin', 'Embarked'],\n",
      "      dtype='object')\n",
      "\n",
      " Valores nulos antes del tratamiento: \n",
      " PassengerId      0\n",
      "Survived         0\n",
      "Pclass           0\n",
      "Name             0\n",
      "Sex              0\n",
      "Age            177\n",
      "SibSp            0\n",
      "Parch            0\n",
      "Ticket           0\n",
      "Fare             0\n",
      "Cabin          687\n",
      "Embarked         2\n",
      "dtype: int64\n",
      "\n",
      " \n",
      "Columnas después de eliminar las que tenían nulos: Index(['PassengerId', 'Survived', 'Pclass', 'Name', 'Sex', 'SibSp', 'Parch',\n",
      "       'Ticket', 'Fare'],\n",
      "      dtype='object')\n",
      "\n",
      " Valores nulos después del tratamiento: \n",
      " PassengerId    0\n",
      "Survived       0\n",
      "Pclass         0\n",
      "Name           0\n",
      "Sex            0\n",
      "SibSp          0\n",
      "Parch          0\n",
      "Ticket         0\n",
      "Fare           0\n",
      "dtype: int64\n"
     ]
    }
   ],
   "source": [
    "# Se vuelve a cargar el dataset\n",
    "dt = pd.read_csv(\"Titanic-Dataset.csv\")\n",
    "\n",
    "print(\"Columnas antes de eliminar las que tenían nulos:\", dt.columns)\n",
    "print(\"\\n Valores nulos antes del tratamiento: \\n\", dt.isnull().sum())\n",
    "\n",
    "# Eliminar columnas que contienen al menos un valor nulo\n",
    "dt = dt.dropna(axis=1)\n",
    "\n",
    "print(\"\\n \\nColumnas después de eliminar las que tenían nulos:\", dt.columns)\n",
    "print(\"\\n Valores nulos después del tratamiento: \\n\", dt.isnull().sum())"
   ]
  },
  {
   "cell_type": "markdown",
   "id": "744b3ff6-2f24-4401-9af2-ded0481170f7",
   "metadata": {},
   "source": [
    "Se puede ver que las columnas de 'Age', 'Cabin' y 'Embarked' se han eliminado."
   ]
  },
  {
   "cell_type": "markdown",
   "id": "224bc53f-df41-48ce-953b-b9ccc29aacd6",
   "metadata": {},
   "source": [
    "### Rellenar de nulos con media y mediana mediante Imputer de Sklearn"
   ]
  },
  {
   "cell_type": "code",
   "execution_count": 51,
   "id": "e5e75d72-c7bf-4198-abf4-0a0f54ef7d77",
   "metadata": {},
   "outputs": [
    {
     "name": "stdout",
     "output_type": "stream",
     "text": [
      "Nulos antes de aplicar media:\n",
      " PassengerId      0\n",
      "Survived         0\n",
      "Pclass           0\n",
      "Name             0\n",
      "Sex              0\n",
      "Age            177\n",
      "SibSp            0\n",
      "Parch            0\n",
      "Ticket           0\n",
      "Fare             0\n",
      "Cabin          687\n",
      "Embarked         2\n",
      "dtype: int64\n",
      "\n",
      " \n",
      " Nulos tras aplicar media:\n",
      " PassengerId      0\n",
      "Survived         0\n",
      "Pclass           0\n",
      "Name             0\n",
      "Sex              0\n",
      "Age              0\n",
      "SibSp            0\n",
      "Parch            0\n",
      "Ticket           0\n",
      "Fare             0\n",
      "Cabin          687\n",
      "Embarked         2\n",
      "dtype: int64\n"
     ]
    }
   ],
   "source": [
    "from sklearn.impute import SimpleImputer\n",
    "\n",
    "dt = pd.read_csv(\"Titanic-Dataset.csv\")\n",
    "\n",
    "# Se obtienen las columnas que son numéricas\n",
    "columnasNumericas = dt.select_dtypes(include=[\"float64\", \"int64\"]).columns\n",
    "\n",
    "print(\"Nulos antes de aplicar media:\\n\", dt.isnull().sum())\n",
    "\n",
    "# Se rellena los nulos con media\n",
    "imputadorMedia = SimpleImputer(strategy='mean')\n",
    "dtMedia = dt.copy()\n",
    "dtMedia[columnasNumericas] = imputadorMedia.fit_transform(dt[columnasNumericas])\n",
    "\n",
    "\n",
    "print(\"\\n \\n Nulos tras aplicar media:\\n\", dtMedia.isnull().sum())\n"
   ]
  },
  {
   "cell_type": "code",
   "execution_count": 53,
   "id": "778d290e-47f1-43c6-bd2f-f8e04761b161",
   "metadata": {},
   "outputs": [
    {
     "name": "stdout",
     "output_type": "stream",
     "text": [
      "\n",
      " Nulos antes de aplicar mediana:\n",
      " PassengerId      0\n",
      "Survived         0\n",
      "Pclass           0\n",
      "Name             0\n",
      "Sex              0\n",
      "Age            177\n",
      "SibSp            0\n",
      "Parch            0\n",
      "Ticket           0\n",
      "Fare             0\n",
      "Cabin          687\n",
      "Embarked         2\n",
      "dtype: int64\n",
      "\n",
      " \n",
      " Nulos tras aplicar mediana:\n",
      " PassengerId      0\n",
      "Survived         0\n",
      "Pclass           0\n",
      "Name             0\n",
      "Sex              0\n",
      "Age              0\n",
      "SibSp            0\n",
      "Parch            0\n",
      "Ticket           0\n",
      "Fare             0\n",
      "Cabin          687\n",
      "Embarked         2\n",
      "dtype: int64\n"
     ]
    }
   ],
   "source": [
    "dt = pd.read_csv(\"Titanic-Dataset.csv\")\n",
    "columnasNumericas = dt.select_dtypes(include=[\"float64\", \"int64\"]).columns\n",
    "\n",
    "print(\"\\n Nulos antes de aplicar mediana:\\n\", dt.isnull().sum())\n",
    "\n",
    "# Se rellenan los nulos con mediana\n",
    "imputadorMediana = SimpleImputer(strategy='median')\n",
    "dtMediana = dt.copy()\n",
    "dtMediana[columnasNumericas] = imputadorMediana.fit_transform(dt[columnasNumericas])\n",
    "\n",
    "print(\"\\n \\n Nulos tras aplicar mediana:\\n\", dtMediana.isnull().sum())"
   ]
  },
  {
   "cell_type": "markdown",
   "id": "568368b9-eb20-40af-82b9-306d70cfb8f2",
   "metadata": {},
   "source": [
    "### Transformación de atributos categóricos a numéricos mediante One-Hot Encoding"
   ]
  },
  {
   "cell_type": "code",
   "execution_count": 69,
   "id": "b769544f-006e-4112-9fbb-75c00d875040",
   "metadata": {},
   "outputs": [
    {
     "name": "stdout",
     "output_type": "stream",
     "text": [
      "     0    1    2    3    4    5    6    7    8    9    ...  144  145  146  \\\n",
      "0    0.0  1.0  1.0  0.0  0.0  0.0  0.0  0.0  0.0  0.0  ...  0.0  0.0  0.0   \n",
      "1    1.0  0.0  0.0  0.0  0.0  0.0  0.0  0.0  0.0  0.0  ...  0.0  0.0  0.0   \n",
      "2    1.0  0.0  1.0  0.0  0.0  0.0  0.0  0.0  0.0  0.0  ...  0.0  0.0  0.0   \n",
      "3    1.0  0.0  0.0  0.0  0.0  0.0  0.0  0.0  0.0  0.0  ...  0.0  0.0  0.0   \n",
      "4    0.0  1.0  1.0  0.0  0.0  0.0  0.0  0.0  0.0  0.0  ...  0.0  0.0  0.0   \n",
      "..   ...  ...  ...  ...  ...  ...  ...  ...  ...  ...  ...  ...  ...  ...   \n",
      "886  0.0  1.0  1.0  0.0  0.0  0.0  0.0  0.0  0.0  0.0  ...  0.0  0.0  0.0   \n",
      "887  1.0  0.0  0.0  0.0  0.0  0.0  0.0  0.0  0.0  0.0  ...  0.0  0.0  0.0   \n",
      "888  1.0  0.0  1.0  0.0  0.0  0.0  0.0  0.0  0.0  0.0  ...  0.0  0.0  0.0   \n",
      "889  0.0  1.0  0.0  0.0  0.0  0.0  0.0  0.0  0.0  0.0  ...  0.0  0.0  0.0   \n",
      "890  0.0  1.0  1.0  0.0  0.0  0.0  0.0  0.0  0.0  0.0  ...  0.0  0.0  0.0   \n",
      "\n",
      "     147  148  149  150  151  152  153  \n",
      "0    0.0  0.0  0.0  0.0  0.0  0.0  1.0  \n",
      "1    0.0  0.0  0.0  0.0  1.0  0.0  0.0  \n",
      "2    0.0  0.0  0.0  0.0  0.0  0.0  1.0  \n",
      "3    0.0  0.0  0.0  0.0  0.0  0.0  1.0  \n",
      "4    0.0  0.0  0.0  0.0  0.0  0.0  1.0  \n",
      "..   ...  ...  ...  ...  ...  ...  ...  \n",
      "886  0.0  0.0  0.0  0.0  0.0  0.0  1.0  \n",
      "887  0.0  0.0  0.0  0.0  0.0  0.0  1.0  \n",
      "888  0.0  0.0  0.0  0.0  0.0  0.0  1.0  \n",
      "889  0.0  0.0  0.0  0.0  1.0  0.0  0.0  \n",
      "890  0.0  0.0  0.0  0.0  0.0  1.0  0.0  \n",
      "\n",
      "[891 rows x 154 columns]\n"
     ]
    }
   ],
   "source": [
    "from sklearn.preprocessing import OneHotEncoder\n",
    "import numpy as np\n",
    "\n",
    "dt = pd.read_csv(\"Titanic-Dataset.csv\")\n",
    "\n",
    "# Convertimos los atributos categóricos a tipo category\n",
    "# El nombre no se incluye debido a que no aporta valor al modelo\n",
    "dt['Sex']=dt['Sex'].astype('category')\n",
    "dt['Cabin']=dt['Cabin'].astype('category')\n",
    "dt['Embarked']=dt['Embarked'].astype('category')\n",
    "\n",
    "# Asignamos valores numéricos en nuevas columnas\n",
    "dt['Sex_new']=dt['Sex'].cat.codes\n",
    "dt['Cabin_new']=dt['Cabin'].cat.codes\n",
    "dt['Embarked_new']=dt['Embarked'].cat.codes\n",
    "\n",
    "# Creamos una instancia de OneHotEncoder\n",
    "enc=OneHotEncoder()\n",
    "enc_data=pd.DataFrame(enc.fit_transform(dt[['Sex_new', 'Cabin_new', 'Embarked_new']]).toarray())\n",
    "\n",
    "print(enc_data)"
   ]
  },
  {
   "cell_type": "markdown",
   "id": "0ba60dea-804f-4018-a51c-a9d84635a1db",
   "metadata": {},
   "source": [
    "### Escalación de atributos mediante RobustScaler"
   ]
  },
  {
   "cell_type": "code",
   "execution_count": 73,
   "id": "cb517014-d97f-47a1-aa79-b0c1ae70efee",
   "metadata": {},
   "outputs": [
    {
     "name": "stdout",
     "output_type": "stream",
     "text": [
      "Valores originales de 'Fare':\n",
      " 0     7.2500\n",
      "1    71.2833\n",
      "2     7.9250\n",
      "3    53.1000\n",
      "4     8.0500\n",
      "Name: Fare, dtype: float64\n",
      "\n",
      " \n",
      "Valores escalados de 'Fare':\n",
      " 0   -0.312011\n",
      "1    2.461242\n",
      "2   -0.282777\n",
      "3    1.673732\n",
      "4   -0.277363\n",
      "Name: Fare, dtype: float64\n"
     ]
    }
   ],
   "source": [
    "from sklearn.preprocessing import RobustScaler\n",
    "\n",
    "dt = pd.read_csv(\"Titanic-Dataset.csv\")\n",
    "columnasNumericas = dt.select_dtypes(include=[\"float64\", \"int64\"]).columns\n",
    "\n",
    "# Inicializar el escalador\n",
    "scaler = RobustScaler()\n",
    "\n",
    "# Aplicar el escalado\n",
    "dtScaled = dt.copy()\n",
    "dtScaled[columnasNumericas] = scaler.fit_transform(dt[columnasNumericas])\n",
    "\n",
    "# Mostrar comparación antes y después en una columna, por ejemplo 'Fare'\n",
    "print(\"Valores originales de 'Fare':\\n\", dt['Fare'].head())\n",
    "print(\"\\n \\nValores escalados de 'Fare':\\n\", dtScaled['Fare'].head())"
   ]
  },
  {
   "cell_type": "markdown",
   "id": "c51cd691-f674-4c3e-81f0-260111e9657b",
   "metadata": {},
   "source": [
    "### Transformador y pipe para visualización"
   ]
  },
  {
   "cell_type": "code",
   "execution_count": 77,
   "id": "328acb72-18b3-485e-b18b-a301ef039238",
   "metadata": {},
   "outputs": [
    {
     "data": {
      "image/png": "[encoded data removed]",
      "text/plain": [
       "<Figure size 640x480 with 1 Axes>"
      ]
     },
     "metadata": {},
     "output_type": "display_data"
    }
   ],
   "source": [
    "from sklearn.pipeline import Pipeline\n",
    "from sklearn.compose import ColumnTransformer\n",
    "import matplotlib.pyplot as plt\n",
    "\n",
    "dt = pd.read_csv(\"Titanic-Dataset.csv\")\n",
    "columnasNumericas = dt.select_dtypes(include=[\"float64\", \"int64\"]).columns\n",
    "\n",
    "# Crear el transformador para columnas numéricas\n",
    "transformadorNumerico = Pipeline(steps=[\n",
    "    (\"imputador\", SimpleImputer(strategy=\"median\")),     \n",
    "    (\"escalador\", RobustScaler())                       \n",
    "])\n",
    "\n",
    "# Combinar todo en un ColumnTransformer\n",
    "preprocesamiento = ColumnTransformer(transformers=[\n",
    "    (\"numerico\", transformadorNumerico, columnasNumericas)\n",
    "])\n",
    "\n",
    "# Aplicar transformación\n",
    "dtProcesado = preprocesamiento.fit_transform(dt)\n",
    "\n",
    "# Convertir a DataFrame para poder visualizar\n",
    "dtProcesado = pd.DataFrame(dtProcesado, columns=columnasNumericas)\n",
    "\n",
    "# Ejemplo de visualización con Age vs Fare\n",
    "plt.scatter(dtProcesado[\"Age\"], dtProcesado[\"Fare\"], alpha=0.5, c='blue')\n",
    "plt.xlabel(\"Edad (escalada)\")\n",
    "plt.ylabel(\"Tarifa (escalada)\")\n",
    "plt.title(\"Visualización tras transformación: Age vs Fare\")\n",
    "plt.grid(True)\n",
    "plt.show()"
   ]
  }
 ],
 "metadata": {
  "kernelspec": {
   "display_name": "Python [conda env:base] *",
   "language": "python",
   "name": "conda-base-py"
  },
  "language_info": {
   "codemirror_mode": {
    "name": "ipython",
    "version": 3
   },
   "file_extension": ".py",
   "mimetype": "text/x-python",
   "name": "python",
   "nbconvert_exporter": "python",
   "pygments_lexer": "ipython3",
   "version": "3.12.7"
  }
 },
 "nbformat": 4,
 "nbformat_minor": 5
}
